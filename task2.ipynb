{
 "cells": [
  {
   "cell_type": "markdown",
   "metadata": {},
   "source": [
    "# 结巴分词\n",
    "1、两种切词方式，切出所有可能，切出最佳可能。2、加入自定义词典"
   ]
  },
  {
   "cell_type": "code",
   "execution_count": 2,
   "metadata": {},
   "outputs": [
    {
     "name": "stdout",
     "output_type": "stream",
     "text": [
      "清华/清华大学/华大/大学\n",
      "清华大学\n"
     ]
    }
   ],
   "source": [
    "import jieba\n",
    "\n",
    "#两种切词方式\n",
    "\n",
    "words = jieba.cut('清华大学',cut_all = True)\n",
    "print('/'.join(words))\n",
    "words = jieba.cut('清华大学',cut_all = False)\n",
    "print('/'.join(words))\n",
    "\n",
    "#加入自定义词典\n",
    "##file_name = ''\n",
    "##jieba.load_userdict(file_name)"
   ]
  },
  {
   "cell_type": "code",
   "execution_count": null,
   "metadata": {},
   "outputs": [],
   "source": [
    "##文本只保留汉字\n",
    "\n",
    "def is_chinese(uchar):\n",
    "    if uchar >= u'\\u4e00' and uchar <= u'\\u9fa5':\n",
    "        return True\n",
    "    else:\n",
    "        return False\n",
    "\n",
    "def format_str(content):\n",
    "    content_str = ''\n",
    "    for i in content:\n",
    "        if is_chinese(i):\n",
    "            content_str = content_str + ｉ\n",
    "    return content_str\n",
    "\n",
    "# 参函数传入的是每一句话\n",
    "chinese_list = []\n",
    "for line in content:\n",
    "    chinese_list.append(format_str(line))\n",
    "print(chinese_list)\n",
    "\n",
    "\n",
    "##去掉空格，如果还有一些无用符号，也可以自己手动输入\n",
    "\n",
    "def process(our_data):\n",
    "    m1 = map(lambda s: s.replace(' ', ''), our_data)\n",
    "    return list(m1)\n",
    "\n",
    "##去掉停用词\n",
    "\n",
    "def drop_stopwords(contents, stopwords):\n",
    "    contents_clean = []\n",
    "    for line in contents:\n",
    "        line_clean = []\n",
    "        for word in line:\n",
    "            if word in stopwords:\n",
    "                continue\n",
    "            line_clean.append(word)\n",
    "        contents_clean.append(line_clean)\n",
    "    return contents_clean\n"
   ]
  },
  {
   "cell_type": "markdown",
   "metadata": {},
   "source": [
    "# 停用词\n",
    "\n",
    "看任务而定，对于某些任务是无用信息可以删除或者统一替换，某些任务却是特征不能删掉。先参考该任务相关文献的预处理方法和评测源码方法等。比如做微博twitter情感分析就会将url，at，表情符号等统一替换。做文本匹配就会去停用词，标点符号，数字转换等等。做地域用户画像就不能把地名清洗了，不同的任务有不同的套路，实在不行就试试多通道输入看哪种清洗方法好。"
   ]
  },
  {
   "cell_type": "markdown",
   "metadata": {},
   "source": [
    "马尔科夫假设是指一个词的出现只与前面n个词相关，即n阶马尔可夫链（Markov chain of order n）"
   ]
  },
  {
   "cell_type": "markdown",
   "metadata": {},
   "source": [
    "循环神经网络的作用，与卷积神经网络有什么区别？循环神经网络模型的参数数量会随着时间步的增加而增长吗？\n",
    "\n",
    "循环神经网络是为更好地处理时序信息而设计的。如一段文字或声音、购物或观影的顺序，甚至是图像中的一行或一列像素。它引入状态变量来存储过去的信息，并用其与当前的输入共同决定当前的输出。它引入状态变量来存储过去的信息，并用其与当前的输入共同决定当前的输出。即便在不同时间步，循环神经网络也始终使用这些模型参数。因此，循环神经网络模型参数的数量不随时间步的增加而增长。"
   ]
  },
  {
   "cell_type": "markdown",
   "metadata": {},
   "source": [
    "随机采样——相邻的两个随机小批量在原始序列上的位置不一定相毗邻。因此，我们无法用一个小批量最终时间步的隐藏状态来初始化下一个小批量的隐藏状态。在训练模型时，每次随机采样前都需要重新初始化隐藏状态。\n",
    "\n",
    "相邻采样——我们还可以令相邻的两个随机小批量在原始序列上的位置相毗邻。这时候，我们就可以用一个小批量最终时间步的隐藏状态来初始化下一个小批量的隐藏状态，从而使下一个小批量的输出也取决于当前小批量的输入。一方面，它使得只需在每一次迭代周期开始时初始化状态，另一方面，模型参数的梯度计算将依赖所有串联起来的小批量序列。同一迭代周期中，随着迭代次数的增加，梯度的计算开销会越来越大。"
   ]
  },
  {
   "cell_type": "markdown",
   "metadata": {},
   "source": [
    "# 代码"
   ]
  },
  {
   "cell_type": "code",
   "execution_count": 1,
   "metadata": {},
   "outputs": [
    {
     "data": {
      "text/plain": [
       "6"
      ]
     },
     "execution_count": 1,
     "metadata": {},
     "output_type": "execute_result"
    }
   ],
   "source": [
    "corpus_chars = ['你好','是的','当然','可以','吃','巧克力香蕉煎饼'，'你好','是的','当然','可以','吃','巧克力香蕉煎饼']\n",
    "idx_to_char = list(set(corpus_chars))\n",
    "char_to_idx = dict([(char, i) for i, char in enumerate(idx_to_char)])\n",
    "vocab_size = len(char_to_idx)\n",
    "vocab_size"
   ]
  },
  {
   "cell_type": "code",
   "execution_count": 16,
   "metadata": {},
   "outputs": [
    {
     "name": "stdout",
     "output_type": "stream",
     "text": [
      "[(0, 'Spring'), (1, 'Summer'), (2, 'Fall'), (3, 'Winter')]\n"
     ]
    },
    {
     "data": {
      "text/plain": [
       "[(1, 'Spring'), (2, 'Summer'), (3, 'Fall'), (4, 'Winter')]"
      ]
     },
     "execution_count": 16,
     "metadata": {},
     "output_type": "execute_result"
    }
   ],
   "source": [
    "##enumerate() 函数用于将一个可遍历的数据对象\n",
    "##(如列表、元组或字符串)组合为一个索引序列，同时列出数据和数据下标，一般用在 for 循环当中。\n",
    "seasons = ['Spring', 'Summer', 'Fall', 'Winter']\n",
    "print(list(enumerate(seasons)))\n",
    "list(enumerate(seasons,start = 1)) ##下标从1开始"
   ]
  },
  {
   "cell_type": "code",
   "execution_count": 17,
   "metadata": {},
   "outputs": [
    {
     "name": "stdout",
     "output_type": "stream",
     "text": [
      "p   Wjn  n n n\n"
     ]
    },
    {
     "data": {
      "text/plain": [
       "'wjn  n n n'"
      ]
     },
     "execution_count": 17,
     "metadata": {},
     "output_type": "execute_result"
    }
   ],
   "source": [
    "string = 'p   Wjn  n n n '\n",
    "print(string.strip())\n",
    "string.strip('p ').lower()\n",
    "#string.strip('')  #移除字符串头尾指定的字符（默认为空格或换行符）或字符序列\n",
    "#string.lower('')  # 所有大写字母都转化成小写"
   ]
  },
  {
   "cell_type": "code",
   "execution_count": null,
   "metadata": {},
   "outputs": [],
   "source": [
    "X = [_data(j * num_steps) for j in batch_indices]"
   ]
  },
  {
   "cell_type": "markdown",
   "metadata": {},
   "source": [
    "# 课后习题"
   ]
  },
  {
   "cell_type": "markdown",
   "metadata": {},
   "source": [
    "如果使用循环神经网络来预测一段文本序列的下一个词，输出个数应该设为多少？\n",
    "为什么循环神经网络可以表达某时间步的词基于文本序列中所有过去的词的条件概率？"
   ]
  },
  {
   "cell_type": "markdown",
   "metadata": {},
   "source": [
    "你还能想到哪些采样小批量时序数据的方法？\n",
    "如果我们希望一个序列样本是一个完整的句子，这会给小批量采样带来什么样的问题？"
   ]
  },
  {
   "cell_type": "markdown",
   "metadata": {},
   "source": [
    "调调超参数，观察并分析对运行时间、困惑度以及创作歌词的结果造成的影响。\n",
    "不裁剪梯度，运行本节中的代码，结果会怎样？\n",
    "将pred_period变量设为1，观察未充分训练的模型（困惑度高）是如何创作歌词的。你获得了什么启发？\n",
    "将相邻采样改为不从计算图分离隐藏状态，运行时间有没有变化？\n",
    "将本节中使用的激活函数替换成ReLU，重复本节的实验。"
   ]
  }
 ],
 "metadata": {
  "kernelspec": {
   "display_name": "Python 3",
   "language": "python",
   "name": "python3"
  },
  "language_info": {
   "codemirror_mode": {
    "name": "ipython",
    "version": 3
   },
   "file_extension": ".py",
   "mimetype": "text/x-python",
   "name": "python",
   "nbconvert_exporter": "python",
   "pygments_lexer": "ipython3",
   "version": "3.6.4"
  }
 },
 "nbformat": 4,
 "nbformat_minor": 2
}
