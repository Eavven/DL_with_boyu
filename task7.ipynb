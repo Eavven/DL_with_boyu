{
 "cells": [
  {
   "cell_type": "markdown",
   "metadata": {},
   "source": [
    "为什么概率分布不能直接用作词向量"
   ]
  },
  {
   "cell_type": "markdown",
   "metadata": {},
   "source": [
    "因为如果出现新的文章，那么所有单词的词向量就改变了，因为附近单词的频率都变了。而通过word2vec方式，只需要在新出现的文章上进行调整（具体怎么调整我不清楚）"
   ]
  },
  {
   "cell_type": "markdown",
   "metadata": {},
   "source": [
    "为什么不用数值型来描述词向量（例如utf-8，assic编码等），为什么不用one-hot来描述，为什么pca和svd不可使用？"
   ]
  },
  {
   "cell_type": "markdown",
   "metadata": {},
   "source": [
    "不能数值是因为unicode不是用语义编码，例如用词频编码，你今天真好和你今天不好，真和不的概率很接近，那么这两个句子输出的向量也很接近，因为数值连续但词是离散的。"
   ]
  },
  {
   "cell_type": "markdown",
   "metadata": {},
   "source": [
    "word2vec解释词向量如何形成，softmax在其中起到何种作用"
   ]
  },
  {
   "cell_type": "markdown",
   "metadata": {},
   "source": [
    "已知该单词周围单词的概率分布，根据反向传播，来得到该词的词向量和M，而如果两个单词意思接近，则他们的概率分布也应该接近，可以根据向量的距离来衡量。例如需要美丽的词向量，初始化美丽的词向量V以及变换矩阵M，V点乘M得到V'，通过softmax得到概率矩阵，首先先将V‘的每个值减去向量中的最大值（避免极大值导致的0，1极端分布），之后求e的xi次方之和，每个值的e的x次放除以之和，得到概率分布（可以解决负值）。"
   ]
  },
  {
   "cell_type": "markdown",
   "metadata": {},
   "source": []
  },
  {
   "cell_type": "markdown",
   "metadata": {},
   "source": []
  },
  {
   "cell_type": "markdown",
   "metadata": {},
   "source": []
  },
  {
   "cell_type": "code",
   "execution_count": null,
   "metadata": {},
   "outputs": [],
   "source": []
  }
 ],
 "metadata": {
  "kernelspec": {
   "display_name": "Python 3",
   "language": "python",
   "name": "python3"
  },
  "language_info": {
   "codemirror_mode": {
    "name": "ipython",
    "version": 3
   },
   "file_extension": ".py",
   "mimetype": "text/x-python",
   "name": "python",
   "nbconvert_exporter": "python",
   "pygments_lexer": "ipython3",
   "version": "3.6.4"
  }
 },
 "nbformat": 4,
 "nbformat_minor": 2
}
