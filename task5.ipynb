{
 "cells": [
  {
   "cell_type": "markdown",
   "metadata": {},
   "source": [
    "CNN是对于NN的改进\n",
    "\n",
    "使用全连接层的局限性：\n",
    "图像在同一列邻近的像素在这个向量中可能相距较远。它们构成的模式可能难以被模型识别。\n",
    "对于大尺寸的输入图像，使用全连接层容易导致模型过大。\n",
    "\n",
    "使用卷积的优势：\n",
    "\n",
    "卷积层保留输入形状。\n",
    "卷积层通过滑动窗口将同一卷积核与不同位置的输入重复计算，从而避免参数尺寸过大。"
   ]
  },
  {
   "cell_type": "markdown",
   "metadata": {},
   "source": [
    "CNN的组成\n",
    "\n",
    "卷积层：用来识别图像里的空间模式，如线条和物体局部，之后的平均池化层则用来降低卷积层对位置的敏感性。\n",
    "\n",
    "padding：\n",
    "\n",
    "卷积窗口window经过filter得到hidden层，而filter的过程要考虑步长（stride），但每一层可能不够整数个window，所以要补数据即padding，padding还有另外一种功能，就是本来是六乘六的，卷积完还是想六乘六，那么即使可以有整数个windows，但还是补上padding。padding有zeropadding和validpadding，zero是补零，而valid是没有padding因为拒绝引入无效信息，实质上validpadding是没有padding，validpadding通过调整stride来保证整数个windows。\n",
    "\n",
    "池化层：\n",
    "\n",
    "有average pooling 和 max pooling\n",
    "\n",
    "不是每个卷积层后面都要池化，经常是多个卷积层后面接一个池化层。池化是为了降维，最终希望提取到的是一些抽象的有代表性的特征，而不是很多很多感受野非常小的细节特征，例如纹理，颜色等。"
   ]
  },
  {
   "cell_type": "markdown",
   "metadata": {},
   "source": [
    "权值共享好处：\n",
    "\n",
    "权值共享是指对于每一个卷积使用的参数都是一样的，比如上图要做六次卷积，只使用一组参数。第一点，降低了拟合参数，因此使模型更简单，降低过拟合而且提高训练时间。第二点，增强local invariment，比如无论房子在左上角还是右下角用的都是同一个权值那么得出的结果也是一样的。同理就算没有训练的样本中没有出现过右下角的房子，但它依然可以之别。\n",
    "\n",
    "\n",
    "如果不用pooling的话该怎么达到减少参数的效果：\n",
    "\n",
    "pooling主要目的就是降低x（input），减少维度，保留原来特征，减少参数，降低复杂度，提高训练速度，降低过拟合，提高泛化能力，需要更少的数据集。其实卷积也可以达到这个要求，只是它要引入新的参数，如果不想用pooling只用卷积，那就用一个filter比较小，这样w包含的参数比较小，而stride比较大，这样可以将x降低的更多。"
   ]
  },
  {
   "cell_type": "markdown",
   "metadata": {},
   "source": [
    "对于如何学习设计神经网络，讨论区的建议：\n",
    "\n",
    "实际使用时往往不需要你来设计，基本上都是用经典结构，最多是进行一些改造。\n",
    "那么到底如何设计呢？这块一两句话肯定说不清，可以按照发展顺序阅读经典论文，去寻求一些模型设计经验的线索。LeNet -> AlexNet -> VGG -> GoogleNet -> ResNet -> DenseNet 等等，后面就不说了，还有数不尽的论文等待着去学习。"
   ]
  },
  {
   "cell_type": "code",
   "execution_count": null,
   "metadata": {},
   "outputs": [],
   "source": []
  },
  {
   "cell_type": "code",
   "execution_count": null,
   "metadata": {},
   "outputs": [],
   "source": []
  }
 ],
 "metadata": {
  "kernelspec": {
   "display_name": "Python 3",
   "language": "python",
   "name": "python3"
  },
  "language_info": {
   "codemirror_mode": {
    "name": "ipython",
    "version": 3
   },
   "file_extension": ".py",
   "mimetype": "text/x-python",
   "name": "python",
   "nbconvert_exporter": "python",
   "pygments_lexer": "ipython3",
   "version": "3.6.4"
  }
 },
 "nbformat": 4,
 "nbformat_minor": 2
}
